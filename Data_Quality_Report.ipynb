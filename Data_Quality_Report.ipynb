{
  "cells": [
    {
      "cell_type": "markdown",
      "metadata": {
        "id": "38bcec7a-f9ab-48e8-9553-e9ded639a576"
      },
      "source": [
        "# Trees in Camden\n",
        "Use this notebook to complete your analysis.\n",
        "Enter code and comments after the TODOs.\n",
        "\n",
        "There are some code cells completed for you.  These are highlighted with a <font style=\"color:crimson;background-color:lemonchiffon\">TODO</font> comment.  You can use these to guide the subsequent tasks.  Other cells require you to read documentation or search for answers.  The markdown comments give you links to some useful documentation and articles.  Read the documentation, look at the examples provided in the documentation and then try to apply them to your data.\n",
        "\n",
        "Remember that you can find information on the pandas functions on the Pandas website https://pandas.pydata.org/pandas-docs/stable/reference/frame.html or directly in the notebook by puttin a ? before or after the function name. for instance: `?df.head()` or `df['Maturity'].value_counts()?`"
      ],
      "id": "38bcec7a-f9ab-48e8-9553-e9ded639a576"
    },
    {
      "cell_type": "markdown",
      "metadata": {
        "id": "71f2c016-f440-4601-8262-1d814315d1bb"
      },
      "source": [
        "## Imports\n",
        "Import the libraries we need to perform the analysis."
      ],
      "id": "71f2c016-f440-4601-8262-1d814315d1bb"
    },
    {
      "cell_type": "code",
      "execution_count": 1,
      "metadata": {
        "id": "26c7393c-3a3f-4224-8c88-10aa58310351"
      },
      "outputs": [],
      "source": [
        "import pandas as pd"
      ],
      "id": "26c7393c-3a3f-4224-8c88-10aa58310351"
    },
    {
      "cell_type": "markdown",
      "metadata": {
        "id": "ddcf618b-a928-498c-b07e-991c7eb09bb7"
      },
      "source": [
        "## Task 2: Load Data and Perform Initial Exploration\n",
        "Load the data from the supplied data files.  The files are in different **file formats**, but Pandas can handle this.\n",
        "\n",
        "You should read the data in using the appropriate function:\n",
        "\n",
        "- [pandas.read_excel](https://pandas.pydata.org/pandas-docs/stable/reference/api/pandas.read_excel.html)\n",
        "- [pandas.read_csv](https://pandas.pydata.org/docs/reference/api/pandas.read_csv.html)\n",
        "- [pandas.read_json](https://pandas.pydata.org/pandas-docs/version/0.23.4/generated/pandas.read_json.html)\n",
        "\n",
        "You can then inspect the first few rows of the loaded dataframe:\n",
        "\n",
        "[pandas.DataFrame.head](https://pandas.pydata.org/docs/reference/api/pandas.DataFrame.head.html)\n",
        "\n",
        "You can get the number of rows and columns:\n",
        "\n",
        "[pandas.DataFrame.shape](https://pandas.pydata.org/pandas-docs/stable/reference/api/pandas.DataFrame.shape.html)\n",
        "\n",
        "You can get the list of column names:\n",
        "\n",
        "[pandas.DataFrame.columns](https://pandas.pydata.org/docs/reference/api/pandas.DataFrame.columns.html)\n",
        "\n",
        "And you can list the data types of the columns:\n",
        "\n",
        "[pandas.DataFrames.dtypes](https://pandas.pydata.org/pandas-docs/stable/reference/api/pandas.DataFrame.dtypes.html)\n",
        "\n",
        "I've done the first one (loading `\"camden_trees.xlsx\"`) for you.  Please load `\"camden_trees_environmental.csv\"` and `\"tree_common_names.json\"` and analyse them in the same way.\n"
      ],
      "id": "ddcf618b-a928-498c-b07e-991c7eb09bb7"
    },
    {
      "cell_type": "markdown",
      "metadata": {
        "id": "be1b77e3-ef79-49da-a896-dafbc51a3e10"
      },
      "source": [
        "### 2.1 Trees\n",
        "The file `\"camden_trees.xlsx\"` is an Excel file, so we use the `read_excel()` function."
      ],
      "id": "be1b77e3-ef79-49da-a896-dafbc51a3e10"
    },
    {
      "cell_type": "code",
      "execution_count": 103,
      "metadata": {
        "id": "dcc71d80-c6e5-41fa-bdd2-8a9c1c129cc7"
      },
      "outputs": [],
      "source": [
        "# Create a Pandas dataframe called trees that contains the contents of the Excel file\n",
        "trees = pd.read_excel(\"camden_trees.xlsx\")"
      ],
      "id": "dcc71d80-c6e5-41fa-bdd2-8a9c1c129cc7"
    },
    {
      "cell_type": "markdown",
      "metadata": {
        "id": "13689979-f709-4e37-87bc-e005a9dfd0ea"
      },
      "source": [
        "We can now inspect the first few rows using `head()`.  By default, `head()` displays the first 5 rows."
      ],
      "id": "13689979-f709-4e37-87bc-e005a9dfd0ea"
    },
    {
      "cell_type": "code",
      "execution_count": null,
      "metadata": {
        "id": "34c737a4-0666-450f-8db3-b14fd2c2fec5"
      },
      "outputs": [],
      "source": [
        "# Display the first few rows\n",
        "trees.head(3)"
      ],
      "id": "34c737a4-0666-450f-8db3-b14fd2c2fec5"
    },
    {
      "cell_type": "markdown",
      "metadata": {
        "id": "2dc1c27b-7658-41be-92f5-6d1ee07f49c0"
      },
      "source": [
        "It's good to understand the size of the dataset we are dealing with.  The `shape` property does this for us."
      ],
      "id": "2dc1c27b-7658-41be-92f5-6d1ee07f49c0"
    },
    {
      "cell_type": "code",
      "execution_count": null,
      "metadata": {
        "id": "9e7f1cf1-4e79-4cdd-a6b8-0a41c16cb153"
      },
      "outputs": [],
      "source": [
        "# Get the number of rows and columns\n",
        "trees.shape"
      ],
      "id": "9e7f1cf1-4e79-4cdd-a6b8-0a41c16cb153"
    },
    {
      "cell_type": "markdown",
      "metadata": {
        "id": "d499f569-4200-48e9-b0a5-b84fc72a228a"
      },
      "source": [
        "If there are lots of columns we can't always see all of them in the `head()` list above.  We can use the `columns` property to get a full list:"
      ],
      "id": "d499f569-4200-48e9-b0a5-b84fc72a228a"
    },
    {
      "cell_type": "code",
      "execution_count": null,
      "metadata": {
        "id": "be4badda-f1c9-481c-a274-8251330cbc5a"
      },
      "outputs": [],
      "source": [
        "# Get a list of all the columns in the dataframe\n",
        "trees.columns"
      ],
      "id": "be4badda-f1c9-481c-a274-8251330cbc5a"
    },
    {
      "cell_type": "markdown",
      "metadata": {
        "id": "7b184dfb-0498-43c0-afa7-9d4be449863a"
      },
      "source": [
        "In order to process the data properly, we should understand the data type for each column.  Pandas attempts to work this out for us, but sometimes we need to give it a bit of a hand.  We can use the `dtypes` property to list the data types.  Note that `object` is Pandas way of saying `string`, i.e. a text data type."
      ],
      "id": "7b184dfb-0498-43c0-afa7-9d4be449863a"
    },
    {
      "cell_type": "code",
      "execution_count": null,
      "metadata": {
        "id": "f5b603ef-9ce1-4667-a672-5a86fe9daf1a"
      },
      "outputs": [],
      "source": [
        "# List the data types of each column\n",
        "trees.dtypes"
      ],
      "id": "f5b603ef-9ce1-4667-a672-5a86fe9daf1a"
    },
    {
      "cell_type": "markdown",
      "metadata": {
        "id": "722d9b40-5f9c-4362-9b46-b052b2449898"
      },
      "source": [
        "### 2.2 Environmental\n",
        "The file `\"camden_trees_environmental.csv\"` is a csv file.  Use the appropriate function to load it into a Pandas DataFrame."
      ],
      "id": "722d9b40-5f9c-4362-9b46-b052b2449898"
    },
    {
      "cell_type": "markdown",
      "metadata": {
        "id": "5585e3b9-4c1c-436e-a34f-f8f19a0cbd02"
      },
      "source": [
        "<div style=\"background-color:lemonchiffon; border:1px solid; padding:5px; margin:5px; font-weight:bold\"><font color=\"crimson\">\n",
        "TODO: Complete the following code cells\n",
        "    </font></div>"
      ],
      "id": "5585e3b9-4c1c-436e-a34f-f8f19a0cbd02"
    },
    {
      "cell_type": "code",
      "execution_count": 7,
      "metadata": {
        "id": "a12780eb-bcb5-4955-bc9b-28439ee81d22"
      },
      "outputs": [],
      "source": [
        "# Create a Pandas dataframe called environmental that contains the contents of the csv file\n",
        "environmental = pd.read_csv(\"camden_trees_environmental.csv\")"
      ],
      "id": "a12780eb-bcb5-4955-bc9b-28439ee81d22"
    },
    {
      "cell_type": "code",
      "execution_count": null,
      "metadata": {
        "id": "4d6e254d-a3df-4004-b262-004923fdbf9a"
      },
      "outputs": [],
      "source": [
        "# Display the first few rows\n",
        "environmental.head(3)"
      ],
      "id": "4d6e254d-a3df-4004-b262-004923fdbf9a"
    },
    {
      "cell_type": "code",
      "execution_count": null,
      "metadata": {
        "id": "66c23391-628f-4612-936b-7f55c561fd1b"
      },
      "outputs": [],
      "source": [
        "# Get the number of rows and columns\n",
        "environmental.shape"
      ],
      "id": "66c23391-628f-4612-936b-7f55c561fd1b"
    },
    {
      "cell_type": "code",
      "execution_count": null,
      "metadata": {
        "id": "2ccce95e-0aec-4b3b-a961-5356606c2d60"
      },
      "outputs": [],
      "source": [
        "# Get a list of all the columns in the dataframe\n",
        "environmental.columns"
      ],
      "id": "2ccce95e-0aec-4b3b-a961-5356606c2d60"
    },
    {
      "cell_type": "code",
      "execution_count": null,
      "metadata": {
        "id": "b32a0236-40fc-44d8-a0b1-d2afb3baba19"
      },
      "outputs": [],
      "source": [
        "# List the data types of each column\n",
        "environmental.dtypes"
      ],
      "id": "b32a0236-40fc-44d8-a0b1-d2afb3baba19"
    },
    {
      "cell_type": "markdown",
      "metadata": {
        "id": "35e2a8fe-944e-4ef0-b944-0a536f699455"
      },
      "source": [
        "<hr/>"
      ],
      "id": "35e2a8fe-944e-4ef0-b944-0a536f699455"
    },
    {
      "cell_type": "markdown",
      "metadata": {
        "id": "faa2e5f5-67d8-4382-bad0-549486826c3a"
      },
      "source": [
        "### 2.3 Common and Scientific Names\n",
        "The file `\"tree_common_names.json\"` is a json file.  Use the appropriate function to load it into a Pandas DataFrame."
      ],
      "id": "faa2e5f5-67d8-4382-bad0-549486826c3a"
    },
    {
      "cell_type": "markdown",
      "metadata": {
        "id": "c60ddc1e-1bc2-498b-83c8-296e182a5048"
      },
      "source": [
        "<div style=\"background-color:lemonchiffon; border:1px solid; padding:5px; margin:5px; font-weight:bold\"><font color=\"crimson\">\n",
        "TODO: Complete the following code cells\n",
        "    </font></div>"
      ],
      "id": "c60ddc1e-1bc2-498b-83c8-296e182a5048"
    },
    {
      "cell_type": "code",
      "execution_count": 12,
      "metadata": {
        "id": "9d3eef7b-123a-4e3d-8d19-5808becb2d35"
      },
      "outputs": [],
      "source": [
        "# Create a Pandas dataframe called names that contains the contents of the json file\n",
        "names = pd.read_json(\"tree_common_names.json\")"
      ],
      "id": "9d3eef7b-123a-4e3d-8d19-5808becb2d35"
    },
    {
      "cell_type": "code",
      "execution_count": null,
      "metadata": {
        "id": "5d05c25c-b462-481b-b8ca-485f4b5a6cec"
      },
      "outputs": [],
      "source": [
        "# Display the first few rows\n",
        "names.head(3)"
      ],
      "id": "5d05c25c-b462-481b-b8ca-485f4b5a6cec"
    },
    {
      "cell_type": "code",
      "execution_count": null,
      "metadata": {
        "id": "d6b7cc1e-1ec9-4a5e-a526-23143c0702f7"
      },
      "outputs": [],
      "source": [
        "# Get the number of rows and columns\n",
        "names.shape"
      ],
      "id": "d6b7cc1e-1ec9-4a5e-a526-23143c0702f7"
    },
    {
      "cell_type": "code",
      "execution_count": null,
      "metadata": {
        "id": "f349e0ba-c2d0-469b-9f16-530394e85446"
      },
      "outputs": [],
      "source": [
        "# Get a list of all the columns in the dataframe\n",
        "names.columns"
      ],
      "id": "f349e0ba-c2d0-469b-9f16-530394e85446"
    },
    {
      "cell_type": "code",
      "execution_count": null,
      "metadata": {
        "id": "aa722c8d-db42-4d95-85cc-eb3d87bcdc5a"
      },
      "outputs": [],
      "source": [
        "# List the data types of each column\n",
        "names.dtypes"
      ],
      "id": "aa722c8d-db42-4d95-85cc-eb3d87bcdc5a"
    },
    {
      "cell_type": "markdown",
      "metadata": {
        "id": "17473375-5a50-4709-9d87-8ba11c738dc9"
      },
      "source": [
        "<hr/>"
      ],
      "id": "17473375-5a50-4709-9d87-8ba11c738dc9"
    },
    {
      "cell_type": "markdown",
      "metadata": {
        "id": "5034de69-86fd-4332-9fbd-9ce160540ded"
      },
      "source": [
        "### 2.4 Review\n",
        "At the end of this task you should have a good basic understanding of the contents and overall shape of the different data files.  If you don't, do back and review the outputs above."
      ],
      "id": "5034de69-86fd-4332-9fbd-9ce160540ded"
    },
    {
      "cell_type": "markdown",
      "metadata": {
        "id": "0ba2d5d3-ad1e-4961-a2c6-c6ecd1bcc9e0"
      },
      "source": [
        "## Task 3: Further Inspect the Datasets\n",
        "The initial inspection gave you a very high-level understanding of the data.  We will now drill a bit deeper and try to understand the data column-by-column.\n",
        "\n",
        "For columns with a string data type (`object` in Pandas) we have **qualitative** data.  It would be good to know how many *different* values we have in the column, what those values are and the *count* how many of each different value we have.  This will help us understand if the qualitative variable is **binary**, **nominal** or **ordinal**.\n",
        "\n",
        "For columns with a numeric data type (`int` or `float`) we have **quantitative** data.  Usually integer type variables can the thought of as **discrete** and float type variables can be thought of as **continuous**.  It would be good to know some summary descriptive statistics for these columns.\n",
        "\n",
        "If you are unsure of what these different data classifications mean, read this:\n",
        "\n",
        "[Types of Variables](https://openclassrooms.com/en/courses/6037301-perform-an-initial-data-analysis/6051886-discover-the-four-variable-types)\n",
        "\n",
        "You can get the list of values and counts for a column using this function:\n",
        "\n",
        "[pandas.Series.value_counts](https://pandas.pydata.org/docs/reference/api/pandas.Series.value_counts.html)\n",
        "\n",
        "You can get the descriptive statistics for a DataFrame using this function:\n",
        "\n",
        "[pandas.DataFrame.describe](https://pandas.pydata.org/pandas-docs/stable/reference/api/pandas.DataFrame.describe.html)\n",
        "\n",
        "Note that Pandas may treat integer columns as floats if there are null values in the columns.  So if you see a float data type it might be worth checking the actual values to confirm if it really is a float or if it really is an int with nulls.  You can check the actual values with:\n",
        "\n",
        "[pandas.Series.unique](https://pandas.pydata.org/docs/reference/api/pandas.Series.unique.html)\n",
        "\n"
      ],
      "id": "0ba2d5d3-ad1e-4961-a2c6-c6ecd1bcc9e0"
    },
    {
      "cell_type": "markdown",
      "metadata": {
        "id": "9899c07e-0430-49db-875a-6d5a629d6887"
      },
      "source": [
        "### 3.1 Further Inspect the Trees Dataset\n",
        "Let's start with the trees dataset.\n"
      ],
      "id": "9899c07e-0430-49db-875a-6d5a629d6887"
    },
    {
      "cell_type": "markdown",
      "metadata": {
        "id": "e220daf9-b12b-4d67-9253-6f61b1952e2f"
      },
      "source": [
        "#### 3.1.a Counts of Values for String Types Columns\n",
        "Go through each column that is a string (object) type and count the number of rows for each value in the column.  After each one, classify the data as binary, nominal or ordinal using a markdown comment.\n",
        "\n",
        "I've done the first one for you.\n"
      ],
      "id": "e220daf9-b12b-4d67-9253-6f61b1952e2f"
    },
    {
      "cell_type": "markdown",
      "metadata": {
        "id": "3dd0dd30-406d-4635-888b-4157fa5e3f37"
      },
      "source": [
        "**Site Name**"
      ],
      "id": "3dd0dd30-406d-4635-888b-4157fa5e3f37"
    },
    {
      "cell_type": "code",
      "execution_count": null,
      "metadata": {
        "id": "3a4a0915-8d0e-45a2-a919-6b9fd49160da"
      },
      "outputs": [],
      "source": [
        "# List of values in Site Name column and their counts\n",
        "trees[\"Site Name\"].value_counts()"
      ],
      "id": "3a4a0915-8d0e-45a2-a919-6b9fd49160da"
    },
    {
      "cell_type": "markdown",
      "metadata": {
        "id": "9117ae6f-8ecb-429f-9e1e-84931d1291c2"
      },
      "source": [
        "Site Name is **qualitative nominal**."
      ],
      "id": "9117ae6f-8ecb-429f-9e1e-84931d1291c2"
    },
    {
      "cell_type": "markdown",
      "metadata": {
        "id": "62f1b4ef-e76a-4464-af20-70a31385091f"
      },
      "source": [
        "Now do the same on the other string columns.  Use `value_counts()` and then classify as binary, ordered or unordered using a markdown comment.  As you do each one, stop and look at the values and counts and think about how the data in the column might be useful for supporting the council's initiatives.  Don't just treat this as a mechanical copy/paste task. The objective is, after all, to get really intimate with the data!"
      ],
      "id": "62f1b4ef-e76a-4464-af20-70a31385091f"
    },
    {
      "cell_type": "markdown",
      "metadata": {
        "id": "51845db9-18f6-4373-a8fc-e19492568561"
      },
      "source": [
        "<div style=\"background-color:lemonchiffon; border:1px solid; padding:5px; margin:5px; font-weight:bold\"><font color=\"crimson\">\n",
        "TODO: Enter your code below.  Use one code cell per column and then add a markdown cell after each one to classify the column as in the above example.  Add as many cells as you need.\n",
        "    </font></div>"
      ],
      "id": "51845db9-18f6-4373-a8fc-e19492568561"
    },
    {
      "cell_type": "code",
      "execution_count": null,
      "metadata": {
        "id": "30f79dcc-0c78-407e-9479-131db91b2400"
      },
      "outputs": [],
      "source": [
        "# List of values in Contract Area column and their counts\n",
        "trees[\"Contract Area\"].value_counts()"
      ],
      "id": "30f79dcc-0c78-407e-9479-131db91b2400"
    },
    {
      "cell_type": "markdown",
      "metadata": {
        "id": "lxNNpOpkItzc"
      },
      "source": [
        "Contract Area is **qualitative nominal**"
      ],
      "id": "lxNNpOpkItzc"
    },
    {
      "cell_type": "code",
      "execution_count": null,
      "metadata": {
        "id": "90a2c62b-fb2c-492d-a529-06cc6066802d"
      },
      "outputs": [],
      "source": [
        "# List of values in Scientific name column and their counts\n",
        "trees[\"Scientific Name\"].value_counts()"
      ],
      "id": "90a2c62b-fb2c-492d-a529-06cc6066802d"
    },
    {
      "cell_type": "markdown",
      "metadata": {
        "id": "Q8a4xD6QMzD9"
      },
      "source": [
        "Scientific name is **qualitative nominal**"
      ],
      "id": "Q8a4xD6QMzD9"
    },
    {
      "cell_type": "code",
      "execution_count": null,
      "metadata": {
        "id": "1f38b812-f955-481d-8964-55ce58be0290"
      },
      "outputs": [],
      "source": [
        "# List of values in Inspection Due Date column and their counts\n",
        "trees[\"Inspection Due Date\"].value_counts()"
      ],
      "id": "1f38b812-f955-481d-8964-55ce58be0290"
    },
    {
      "cell_type": "markdown",
      "metadata": {
        "id": "Kiv3K5_cON-P"
      },
      "source": [
        "Inspection Due Dat is **Qualitative ordinal**\n"
      ],
      "id": "Kiv3K5_cON-P"
    },
    {
      "cell_type": "code",
      "execution_count": null,
      "metadata": {
        "id": "128fc054-89ec-494f-b651-2e01a5e95442"
      },
      "outputs": [],
      "source": [
        "# List of values in Ward code column and their counts\n",
        "trees[\"Ward Code\"].value_counts()"
      ],
      "id": "128fc054-89ec-494f-b651-2e01a5e95442"
    },
    {
      "cell_type": "markdown",
      "metadata": {
        "id": "zWIBPmBmmhZt"
      },
      "source": [
        "Ward code is **Qualitative nominal**"
      ],
      "id": "zWIBPmBmmhZt"
    },
    {
      "cell_type": "code",
      "execution_count": null,
      "metadata": {
        "id": "2KjF5JRvpbEO"
      },
      "outputs": [],
      "source": [
        "# List of values in Ward Name column and their counts\n",
        "trees[\"Ward Name\"].value_counts()"
      ],
      "id": "2KjF5JRvpbEO"
    },
    {
      "cell_type": "markdown",
      "metadata": {
        "id": "3tSpzJCQpkj3"
      },
      "source": [
        "Ward code is **Qualitative nominal**"
      ],
      "id": "3tSpzJCQpkj3"
    },
    {
      "cell_type": "code",
      "execution_count": null,
      "metadata": {
        "id": "qpzJ65ahqXy4"
      },
      "outputs": [],
      "source": [
        "# List of values in Location column and their counts\n",
        "trees[\"Location\"].value_counts()"
      ],
      "id": "qpzJ65ahqXy4"
    },
    {
      "cell_type": "markdown",
      "metadata": {
        "id": "1S8Iy8lEqf0m"
      },
      "source": [
        "Location is **Qualitative ordinal**"
      ],
      "id": "1S8Iy8lEqf0m"
    },
    {
      "cell_type": "markdown",
      "metadata": {
        "id": "098f1891-aa39-4304-9845-13cf7041d27f"
      },
      "source": [
        "<hr/>"
      ],
      "id": "098f1891-aa39-4304-9845-13cf7041d27f"
    },
    {
      "cell_type": "markdown",
      "metadata": {
        "id": "65820ccc-8566-4b63-b141-7dffa8e9d067"
      },
      "source": [
        "#### 3.1.b Descriptive Stats for Numeric Type Columns\n",
        "Use the `describe()` function to get the descriptive stats for the numeric columns.\n",
        "\n",
        "For each column, classify the column as discrete or continuous (use the data type to guide you, but check any floats to confirm whether they are really floats or just ints with null values.  Use `pandas.Series.unique()` to check this).\n"
      ],
      "id": "65820ccc-8566-4b63-b141-7dffa8e9d067"
    },
    {
      "cell_type": "markdown",
      "metadata": {
        "id": "bef50831-d839-4dd0-833e-cabfda83cba4"
      },
      "source": [
        "<div style=\"background-color:lemonchiffon; border:1px solid; padding:5px; margin:5px; font-weight:bold\"><font color=\"crimson\">\n",
        "TODO: Complete the following code cells\n",
        "    </font></div>"
      ],
      "id": "bef50831-d839-4dd0-833e-cabfda83cba4"
    },
    {
      "cell_type": "code",
      "execution_count": null,
      "metadata": {
        "id": "0f449063-a7c5-4526-a057-fd20bd17ba6f"
      },
      "outputs": [],
      "source": [
        "# Get the descriptive stats for the numeric columns\n",
        "trees[\"Number Of Trees\"].describe()"
      ],
      "id": "0f449063-a7c5-4526-a057-fd20bd17ba6f"
    },
    {
      "cell_type": "code",
      "execution_count": 25,
      "metadata": {
        "id": "9b793f70-5799-4eb0-aa11-4cb38f86baba",
        "colab": {
          "base_uri": "https://localhost:8080/"
        },
        "outputId": "972b1f39-a748-463b-cb65-3f615b5b52f6"
      },
      "outputs": [
        {
          "output_type": "execute_result",
          "data": {
            "text/plain": [
              "dtype('float64')"
            ]
          },
          "metadata": {},
          "execution_count": 25
        }
      ],
      "source": [
        "# Remind ourselves of the data types\n",
        "trees[\"Number Of Trees\"].dtypes"
      ],
      "id": "9b793f70-5799-4eb0-aa11-4cb38f86baba"
    },
    {
      "cell_type": "code",
      "source": [
        "# Get the descriptive stats for the numeric columns\n",
        "trees[\"Height In Metres\"].describe()"
      ],
      "metadata": {
        "id": "G4-48-yK5Ypa"
      },
      "id": "G4-48-yK5Ypa",
      "execution_count": null,
      "outputs": []
    },
    {
      "cell_type": "code",
      "source": [
        "# Remind ourselves of the data types\n",
        "trees[\"Height In Metres\"].dtypes"
      ],
      "metadata": {
        "id": "WQgpRG065Ymz"
      },
      "id": "WQgpRG065Ymz",
      "execution_count": null,
      "outputs": []
    },
    {
      "cell_type": "code",
      "source": [
        "# Get the descriptive stats for the numeric columns\n",
        "trees[\"Spread In Metres\"].describe()"
      ],
      "metadata": {
        "id": "1h2e_os25Ykm"
      },
      "id": "1h2e_os25Ykm",
      "execution_count": null,
      "outputs": []
    },
    {
      "cell_type": "code",
      "source": [
        "# Remind ourselves of the data types\n",
        "trees[\"Spread In Metres\"].dtypes"
      ],
      "metadata": {
        "id": "xEPKcc_15YiW"
      },
      "id": "xEPKcc_15YiW",
      "execution_count": null,
      "outputs": []
    },
    {
      "cell_type": "code",
      "source": [
        "# Get the descriptive stats for the numeric columns\n",
        "trees[\"Diameter In Centimetres At Breast Height\"].describe()"
      ],
      "metadata": {
        "id": "ojoPz8wP5Yf7"
      },
      "id": "ojoPz8wP5Yf7",
      "execution_count": null,
      "outputs": []
    },
    {
      "cell_type": "code",
      "source": [
        "# Remind ourselves of the data types\n",
        "trees[\"Diameter In Centimetres At Breast Height\"].dtypes"
      ],
      "metadata": {
        "id": "RwFiXnrN5Yde"
      },
      "id": "RwFiXnrN5Yde",
      "execution_count": null,
      "outputs": []
    },
    {
      "cell_type": "code",
      "source": [
        "# Get the descriptive stats for the numeric columns\n",
        "trees[\"Longitude\"].describe()"
      ],
      "metadata": {
        "id": "urHK1OyH5YbC"
      },
      "id": "urHK1OyH5YbC",
      "execution_count": null,
      "outputs": []
    },
    {
      "cell_type": "code",
      "source": [
        "# Remind ourselves of the data types\n",
        "trees[\"Longitude\"].dtypes"
      ],
      "metadata": {
        "id": "q_Fqf6VM5s-M"
      },
      "id": "q_Fqf6VM5s-M",
      "execution_count": null,
      "outputs": []
    },
    {
      "cell_type": "code",
      "source": [
        "# Get the descriptive stats for the numeric columns\n",
        "trees[\"Latitude\"].describe()"
      ],
      "metadata": {
        "id": "jncDltY45s74"
      },
      "id": "jncDltY45s74",
      "execution_count": null,
      "outputs": []
    },
    {
      "cell_type": "code",
      "source": [
        "# Remind ourselves of the data types\n",
        "trees[\"Latitude\"].dtypes"
      ],
      "metadata": {
        "id": "waZJweA85s5Y"
      },
      "id": "waZJweA85s5Y",
      "execution_count": null,
      "outputs": []
    },
    {
      "cell_type": "markdown",
      "metadata": {
        "id": "f8139d4e-5890-4d4d-bf64-850c9f783710"
      },
      "source": [
        "<hr/>\n",
        "\n",
        "Find out if floats are really floats or ints with nulls.\n",
        "\n",
        "<div style=\"background-color:lemonchiffon; border:1px solid; padding:5px; margin:5px; font-weight:bold\"><font color=\"crimson\">\n",
        "TODO: Enter your code below.  Use one code cell per column.   Add as many cells as you need.\n",
        "    </font></div>"
      ],
      "id": "f8139d4e-5890-4d4d-bf64-850c9f783710"
    },
    {
      "cell_type": "code",
      "execution_count": 104,
      "metadata": {
        "colab": {
          "base_uri": "https://localhost:8080/"
        },
        "id": "d1b425fc-edd1-4bfd-9766-6bd300bd2968",
        "outputId": "901d56ee-3cf4-402d-87bb-e393a1f77901"
      },
      "outputs": [
        {
          "output_type": "execute_result",
          "data": {
            "text/plain": [
              "array([ 1.,  2.,  3.,  0., nan,  5.,  6.,  7., 18.,  8., 65.,  4., 10.,\n",
              "        9., 11., 50., 12., 15., 52., 40., 33., 13., 20., 67., 21., 32.,\n",
              "       24., 26., 16., 25., 51.])"
            ]
          },
          "metadata": {},
          "execution_count": 104
        }
      ],
      "source": [
        "trees[\"Number Of Trees\"].unique()"
      ],
      "id": "d1b425fc-edd1-4bfd-9766-6bd300bd2968"
    },
    {
      "cell_type": "markdown",
      "source": [
        "**Ints with nulls**"
      ],
      "metadata": {
        "id": "lYU0itqY02oy"
      },
      "id": "lYU0itqY02oy"
    },
    {
      "cell_type": "code",
      "execution_count": 105,
      "metadata": {
        "id": "a463c666-709d-4821-b0d0-815ce6810bd9",
        "colab": {
          "base_uri": "https://localhost:8080/"
        },
        "outputId": "9784f959-406f-42c4-808f-e986b78eb7d8"
      },
      "outputs": [
        {
          "output_type": "execute_result",
          "data": {
            "text/plain": [
              "array([  nan,   5. ,   4. ,  14. ,   9. ,   0. ,   2. ,   2.5,   8. ,\n",
              "        13. ,  17. ,  10. ,   3. ,  19. ,   7. ,   6. ,   1.8,  15. ,\n",
              "        12. ,   1.5,  16. ,  20. ,  21. ,  24. ,  25. ,   2.7,  18. ,\n",
              "        11. ,  26. ,  22. ,   0.5,  16.1,  27. ,  28. ,   2.3,  22.3,\n",
              "        38. ,  15.5,  29. ,  23. ,  34. ,   3.5,   2.6,   1. ,   5.5,\n",
              "        22.5,   2.2,  36. ,  31. ,  96. ,  13.6, 127. ,  14.7,   4.5,\n",
              "        30. ,  35. ,  32. ,   9.4,  11.8,  33. ,  40. ,   2.1,   6.5,\n",
              "        41. ,  23.1,  37. ,  39. ,  12.5,   7.5,  13.7,  31.6,  23.8,\n",
              "         0.2,  12.3,  15.7,   6.8,   9.3,   3.8,  24.9,  17.4,   2.8,\n",
              "         3.2,  13.9,  12.4,  10.2,  10.8,  24.5,  30.4,   9.8,  11.4,\n",
              "        23.4,   3.7,  11.6,   7.7,   8.3,   3.6,  17.5,  19.5])"
            ]
          },
          "metadata": {},
          "execution_count": 105
        }
      ],
      "source": [
        "trees[\"Height In Metres\"].unique()"
      ],
      "id": "a463c666-709d-4821-b0d0-815ce6810bd9"
    },
    {
      "cell_type": "markdown",
      "source": [
        "**Floats**"
      ],
      "metadata": {
        "id": "9x6rkiKiHr1W"
      },
      "id": "9x6rkiKiHr1W"
    },
    {
      "cell_type": "code",
      "execution_count": null,
      "metadata": {
        "id": "81ec49ca-b8dc-4c4f-ae1f-2fd3368330e8"
      },
      "outputs": [],
      "source": [
        "trees[\"Spread In Metres\"].unique()"
      ],
      "id": "81ec49ca-b8dc-4c4f-ae1f-2fd3368330e8"
    },
    {
      "cell_type": "markdown",
      "source": [
        "**Floats**"
      ],
      "metadata": {
        "id": "TWnaHnD7HwEF"
      },
      "id": "TWnaHnD7HwEF"
    },
    {
      "cell_type": "code",
      "execution_count": null,
      "metadata": {
        "id": "ece0e5ee-9b62-43b7-ae9b-1c71086736f4"
      },
      "outputs": [],
      "source": [
        "trees[\"Diameter In Centimetres At Breast Height\"].unique()"
      ],
      "id": "ece0e5ee-9b62-43b7-ae9b-1c71086736f4"
    },
    {
      "cell_type": "markdown",
      "source": [
        "**Ints with nulls**"
      ],
      "metadata": {
        "id": "Tcd4e2KsH0z4"
      },
      "id": "Tcd4e2KsH0z4"
    },
    {
      "cell_type": "code",
      "execution_count": null,
      "metadata": {
        "id": "9LTW6tqpBl-Y"
      },
      "outputs": [],
      "source": [
        "trees[\"Longitude\"].unique()"
      ],
      "id": "9LTW6tqpBl-Y"
    },
    {
      "cell_type": "markdown",
      "source": [
        "**Floats**"
      ],
      "metadata": {
        "id": "-YZ4v0t8H5_7"
      },
      "id": "-YZ4v0t8H5_7"
    },
    {
      "cell_type": "code",
      "execution_count": null,
      "metadata": {
        "id": "CAAtfhk-BtGU"
      },
      "outputs": [],
      "source": [
        "trees[\"Latitude\"].unique()"
      ],
      "id": "CAAtfhk-BtGU"
    },
    {
      "cell_type": "markdown",
      "source": [
        "**Floats**"
      ],
      "metadata": {
        "id": "6Oe6nZfwH7-1"
      },
      "id": "6Oe6nZfwH7-1"
    },
    {
      "cell_type": "markdown",
      "metadata": {
        "id": "27c930e8-f1f0-45d1-851a-ac41f43fbdcd"
      },
      "source": [
        "\n",
        "<hr/>"
      ],
      "id": "27c930e8-f1f0-45d1-851a-ac41f43fbdcd"
    },
    {
      "cell_type": "markdown",
      "metadata": {
        "id": "de74dc7d-a346-42ba-9def-8d07b1ef1e0c"
      },
      "source": [
        "Classify the columns as discrete or continuous.\n",
        "\n",
        "<div style=\"background-color:lemonchiffon; border:1px solid; padding:5px; margin:5px; font-weight:bold\"><font color=\"crimson\">\n",
        "TODO: Enter markdown below.\n",
        "</div>"
      ],
      "id": "de74dc7d-a346-42ba-9def-8d07b1ef1e0c"
    },
    {
      "cell_type": "markdown",
      "metadata": {
        "id": "5a7931f5-fac2-4181-84d6-b4999e983057"
      },
      "source": [
        "**Clasification:**\n",
        "\n",
        "*   \"Number Of Trees\" - Integer. Discrete\n",
        "*   \"Height In Metres\" - Floats. Continous\n",
        "*   \"Spread In Metres\" - Floats. Continous\n",
        "*   \"Diameter In Centimetres At Breast Height\" - Integer. Discrete\n",
        "*   \"Longitude\" - Foloats. Continous\n",
        "*   \"Latitude\" - Floats. Continous"
      ],
      "id": "5a7931f5-fac2-4181-84d6-b4999e983057"
    },
    {
      "cell_type": "markdown",
      "metadata": {
        "id": "4ee2e405-e35f-49d7-bcd6-00c12d31fa8d"
      },
      "source": [
        "<hr/>"
      ],
      "id": "4ee2e405-e35f-49d7-bcd6-00c12d31fa8d"
    },
    {
      "cell_type": "markdown",
      "metadata": {
        "id": "90c6e10d-2f2e-4003-b983-f60870b6fc1a"
      },
      "source": [
        "### 3.2 Further Inspect the Environmental Dataset\n",
        "Now repeat the above for the environmental dataset.\n",
        "\n",
        "#### 3.2.a Counts of Values for String Type Columns\n",
        "For each string column in the environmental dataset show the counts of the unique values."
      ],
      "id": "90c6e10d-2f2e-4003-b983-f60870b6fc1a"
    },
    {
      "cell_type": "markdown",
      "metadata": {
        "id": "f077e892-01db-426e-9cae-e59a6b0940be"
      },
      "source": [
        "<div style=\"background-color:lemonchiffon; border:1px solid; padding:5px; margin:5px; font-weight:bold\"><font color=\"crimson\">\n",
        "    TODO: Enter your code below.  Use one code cell per column and then add a markdown cell after each one to classify the column.  Add as many cells as you need.\n",
        "</font></div>"
      ],
      "id": "f077e892-01db-426e-9cae-e59a6b0940be"
    },
    {
      "cell_type": "code",
      "execution_count": null,
      "metadata": {
        "id": "044f2b73-aa4b-4a10-8546-e3149d39d817"
      },
      "outputs": [],
      "source": [
        "# List of values in Identifier column and their counts\n",
        "environmental[\"Identifier\"].value_counts()"
      ],
      "id": "044f2b73-aa4b-4a10-8546-e3149d39d817"
    },
    {
      "cell_type": "code",
      "execution_count": null,
      "metadata": {
        "id": "44ba9648-4ddb-4d61-b176-264bce03818c"
      },
      "outputs": [],
      "source": [
        "# List of values in Maturity column and their counts\n",
        "environmental[\"Physiological Condition\"].value_counts()"
      ],
      "id": "44ba9648-4ddb-4d61-b176-264bce03818c"
    },
    {
      "cell_type": "code",
      "execution_count": null,
      "metadata": {
        "id": "089c3831-ae1e-47f9-a907-45260efe3d56"
      },
      "outputs": [],
      "source": [
        "# List of values in Maturity column and their counts\n",
        "environmental[\"Maturity\"].value_counts()"
      ],
      "id": "089c3831-ae1e-47f9-a907-45260efe3d56"
    },
    {
      "cell_type": "code",
      "execution_count": null,
      "metadata": {
        "id": "eb9ecfc7-a941-4980-8c2e-aec88871c8c0"
      },
      "outputs": [],
      "source": [
        "# List of values in Maturity column and their counts\n",
        "environmental[\"Tree Set To Be Removed\"].value_counts()"
      ],
      "id": "eb9ecfc7-a941-4980-8c2e-aec88871c8c0"
    },
    {
      "cell_type": "code",
      "execution_count": null,
      "metadata": {
        "id": "ZNnlIo_3GYs0"
      },
      "outputs": [],
      "source": [
        "# List of values in Maturity column and their counts\n",
        "environmental[\"Removal Reason\"].value_counts()\n"
      ],
      "id": "ZNnlIo_3GYs0"
    },
    {
      "cell_type": "markdown",
      "metadata": {
        "id": "fa84e8d1-57aa-483b-bb38-e54a07e6aff8"
      },
      "source": [
        "<hr/>"
      ],
      "id": "fa84e8d1-57aa-483b-bb38-e54a07e6aff8"
    },
    {
      "cell_type": "markdown",
      "metadata": {
        "id": "5c9ae370-ab1f-43f3-ba17-5dd062a2cbf1"
      },
      "source": [
        "#### 3.2.b Descriptive Stats for Numeric Type Columns\n",
        "For each numeric column in the environmental dataset show the descriptive stats"
      ],
      "id": "5c9ae370-ab1f-43f3-ba17-5dd062a2cbf1"
    },
    {
      "cell_type": "markdown",
      "metadata": {
        "id": "eafafa68-7cf4-4f9d-bbe1-7513151aa727"
      },
      "source": [
        "<div style=\"background-color:lemonchiffon; border:1px solid; padding:5px; margin:5px; font-weight:bold\"><font color=\"crimson\">\n",
        "TODO: Complete the following code cells\n",
        "    </font></div>"
      ],
      "id": "eafafa68-7cf4-4f9d-bbe1-7513151aa727"
    },
    {
      "cell_type": "code",
      "execution_count": null,
      "metadata": {
        "id": "4380cd76-3b4c-4488-8b5d-b8429c747228"
      },
      "outputs": [],
      "source": [
        "# Get the descriptive stats for all numeric columns\n",
        "environmental[\"Capital Asset Value For Amenity Trees\"].describe()"
      ],
      "id": "4380cd76-3b4c-4488-8b5d-b8429c747228"
    },
    {
      "cell_type": "code",
      "source": [
        "# Get the descriptive stats for all numeric columns\n",
        "environmental[\"Carbon Storage In Kilograms\"].describe()"
      ],
      "metadata": {
        "id": "hF7jvwiO7IgI"
      },
      "id": "hF7jvwiO7IgI",
      "execution_count": null,
      "outputs": []
    },
    {
      "cell_type": "code",
      "source": [
        "# Get the descriptive stats for all numeric columns\n",
        "environmental[\"Gross Carbon Sequestration Per Year In Kilograms\"].describe()"
      ],
      "metadata": {
        "id": "M1idzfPo7Ia0"
      },
      "id": "M1idzfPo7Ia0",
      "execution_count": null,
      "outputs": []
    },
    {
      "cell_type": "code",
      "source": [
        "# Get the descriptive stats for all numeric columns\n",
        "environmental[\"Pollution Removal Per Year In Grams\"].describe()"
      ],
      "metadata": {
        "id": "elrhBFIu7IVL"
      },
      "id": "elrhBFIu7IVL",
      "execution_count": null,
      "outputs": []
    },
    {
      "cell_type": "code",
      "execution_count": null,
      "metadata": {
        "id": "d0f77821-130d-4f5d-b92e-0ce89e6b3bcd"
      },
      "outputs": [],
      "source": [
        "# Remind ourselves of the data types\n",
        "environmental[\"Capital Asset Value For Amenity Trees\"].dtypes"
      ],
      "id": "d0f77821-130d-4f5d-b92e-0ce89e6b3bcd"
    },
    {
      "cell_type": "code",
      "source": [
        "# Remind ourselves of the data types\n",
        "environmental[\"Carbon Storage In Kilograms\"].dtypes"
      ],
      "metadata": {
        "id": "mILKaXX97W6z"
      },
      "id": "mILKaXX97W6z",
      "execution_count": null,
      "outputs": []
    },
    {
      "cell_type": "code",
      "source": [
        "# Remind ourselves of the data types\n",
        "environmental[\"Gross Carbon Sequestration Per Year In Kilograms\"].dtypes"
      ],
      "metadata": {
        "id": "BOGRWQ6B7W1p"
      },
      "id": "BOGRWQ6B7W1p",
      "execution_count": null,
      "outputs": []
    },
    {
      "cell_type": "code",
      "source": [
        "# Remind ourselves of the data types\n",
        "environmental[\"Pollution Removal Per Year In Grams\"].dtypes"
      ],
      "metadata": {
        "id": "gV1C984J7Wwl"
      },
      "id": "gV1C984J7Wwl",
      "execution_count": null,
      "outputs": []
    },
    {
      "cell_type": "markdown",
      "metadata": {
        "id": "eb227586-d79a-46b9-a665-854b330a4c72"
      },
      "source": [
        "<hr/>\n",
        "\n",
        "Find out if floats are really floats or ints with nulls.\n",
        "\n",
        "<div style=\"background-color:lemonchiffon; border:1px solid; padding:5px; margin:5px; font-weight:bold\"><font color=\"crimson\">\n",
        "TODO: Enter your code below.  Use one code cell per column.   Add as many cells as you need.\n",
        "    </font></div>"
      ],
      "id": "eb227586-d79a-46b9-a665-854b330a4c72"
    },
    {
      "cell_type": "code",
      "execution_count": null,
      "metadata": {
        "id": "20d9ddc5-3be9-4836-bc1a-5974d9b6b6b8"
      },
      "outputs": [],
      "source": [
        "environmental[\"Capital Asset Value For Amenity Trees\"].unique()"
      ],
      "id": "20d9ddc5-3be9-4836-bc1a-5974d9b6b6b8"
    },
    {
      "cell_type": "markdown",
      "source": [
        "Float"
      ],
      "metadata": {
        "id": "lNrQZJJj6wUm"
      },
      "id": "lNrQZJJj6wUm"
    },
    {
      "cell_type": "code",
      "execution_count": null,
      "metadata": {
        "id": "0ac2cda7-cc1c-4a51-935e-033958ee9072"
      },
      "outputs": [],
      "source": [
        "environmental[\"Carbon Storage In Kilograms\"].unique()"
      ],
      "id": "0ac2cda7-cc1c-4a51-935e-033958ee9072"
    },
    {
      "cell_type": "markdown",
      "source": [
        "Float"
      ],
      "metadata": {
        "id": "uwYzMrHJ674s"
      },
      "id": "uwYzMrHJ674s"
    },
    {
      "cell_type": "code",
      "execution_count": null,
      "metadata": {
        "id": "5503930d-debf-40d0-b845-e00adc7ac40b"
      },
      "outputs": [],
      "source": [
        "environmental[\"Gross Carbon Sequestration Per Year In Kilograms\"].unique()"
      ],
      "id": "5503930d-debf-40d0-b845-e00adc7ac40b"
    },
    {
      "cell_type": "markdown",
      "source": [
        "Float"
      ],
      "metadata": {
        "id": "-4D7XaNB686a"
      },
      "id": "-4D7XaNB686a"
    },
    {
      "cell_type": "code",
      "execution_count": null,
      "metadata": {
        "id": "2a1ad19d-b9d9-4752-a876-c39121829f22"
      },
      "outputs": [],
      "source": [
        "environmental[\"Pollution Removal Per Year In Grams\"].unique()"
      ],
      "id": "2a1ad19d-b9d9-4752-a876-c39121829f22"
    },
    {
      "cell_type": "markdown",
      "source": [
        "Float"
      ],
      "metadata": {
        "id": "SjynSQxM7CKG"
      },
      "id": "SjynSQxM7CKG"
    },
    {
      "cell_type": "markdown",
      "metadata": {
        "id": "6d550cf1-defa-4c65-9fcf-7d334a0c8899"
      },
      "source": [
        "<hr/>"
      ],
      "id": "6d550cf1-defa-4c65-9fcf-7d334a0c8899"
    },
    {
      "cell_type": "markdown",
      "metadata": {
        "id": "8bda5350-317b-43c1-91b1-71aeedf06ed3"
      },
      "source": [
        "\n",
        "Classify the columns as discrete or continuous.\n",
        "\n",
        "<div style=\"background-color:lemonchiffon; border:1px solid; padding:5px; margin:5px; font-weight:bold\"><font color=\"crimson\">\n",
        "TODO: Enter markdown below.\n",
        "    </font></div>\n"
      ],
      "id": "8bda5350-317b-43c1-91b1-71aeedf06ed3"
    },
    {
      "cell_type": "markdown",
      "metadata": {
        "id": "e90ac26a-3015-491c-9c5d-a0d1b47c1f94"
      },
      "source": [
        "Columns are floats **continous**."
      ],
      "id": "e90ac26a-3015-491c-9c5d-a0d1b47c1f94"
    },
    {
      "cell_type": "markdown",
      "metadata": {
        "id": "1467aacd-ee75-46c9-b1d9-753c78869723"
      },
      "source": [
        "<hr/>"
      ],
      "id": "1467aacd-ee75-46c9-b1d9-753c78869723"
    },
    {
      "cell_type": "markdown",
      "metadata": {
        "id": "5edacbd1-2ef6-4719-acc7-2d8f630d4195"
      },
      "source": [
        "### 3.3 Further Inspect the Common Names Dataset\n",
        "Now repeat the above for the common names dataset.\n",
        "\n",
        "#### 3.3.a (Names) Counts of Values for String Type Columns\n",
        "For each string column in the common names dataset show the counts of the unique values.\n",
        "\n",
        "<div style=\"background-color:lemonchiffon; border:1px solid; padding:5px; margin:5px; font-weight:bold\"><font color=\"crimson\">\n",
        "<font color=\"crimson\">TODO: Enter your code below.  Use one code cell per column and then add a markdown cell after each one to classify the column.  Add as many cells as you need.</font>\n",
        "    </font></div>\n"
      ],
      "id": "5edacbd1-2ef6-4719-acc7-2d8f630d4195"
    },
    {
      "cell_type": "code",
      "execution_count": null,
      "metadata": {
        "id": "0c83c5e3-e84a-4e29-a05c-2c10b7d5dfb0"
      },
      "outputs": [],
      "source": [
        "names[\"Scientific Name\"].value_counts()"
      ],
      "id": "0c83c5e3-e84a-4e29-a05c-2c10b7d5dfb0"
    },
    {
      "cell_type": "markdown",
      "source": [
        "Scientific name is **qualitative nominal**"
      ],
      "metadata": {
        "id": "YaImMe5C8ZXB"
      },
      "id": "YaImMe5C8ZXB"
    },
    {
      "cell_type": "code",
      "execution_count": null,
      "metadata": {
        "id": "ca5c98b7-a9c5-4ece-bb76-ed03a804525e"
      },
      "outputs": [],
      "source": [
        "names[\"Common Name\"].value_counts()"
      ],
      "id": "ca5c98b7-a9c5-4ece-bb76-ed03a804525e"
    },
    {
      "cell_type": "markdown",
      "source": [
        "Common Name is **qualitative nominal**"
      ],
      "metadata": {
        "id": "kHP3EYNw8aPN"
      },
      "id": "kHP3EYNw8aPN"
    },
    {
      "cell_type": "markdown",
      "metadata": {
        "id": "2778e230-5042-42eb-b51a-022a1c9710cc"
      },
      "source": [
        "<hr/>\n"
      ],
      "id": "2778e230-5042-42eb-b51a-022a1c9710cc"
    },
    {
      "cell_type": "markdown",
      "metadata": {
        "id": "8b9a614c-0c3f-41f1-9b30-7259bcb3a2d3"
      },
      "source": [
        "#### 3.3.b (Names) Descriptive Stats for Numeric Type Columns\n",
        "There are no numeric columns."
      ],
      "id": "8b9a614c-0c3f-41f1-9b30-7259bcb3a2d3"
    },
    {
      "cell_type": "markdown",
      "metadata": {
        "id": "8641574f-7ee8-4cac-98d9-4c33a54891af"
      },
      "source": [
        "## Task 4: Identify Missing Values\n",
        "Find the number of missing values in each column.  Missing values can indicate data quality issues.  Missing are nulls in our data.  But sometimes zero values indicate missing values.  For example, a zero value for a tree height is clearly not a valid valid, so should be considered missing.\n",
        "\n",
        "Use these functions to find rows that have missing and zero values:\n",
        "\n",
        "- [pandas.DataFrame.isnull](https://pandas.pydata.org/docs/reference/api/pandas.DataFrame.isnull.html)\n",
        "- [pandas.DataFrame.isin](https://pandas.pydata.org/docs/reference/api/pandas.DataFrame.isin.html)\n",
        "- [pandas.DataFrame.mean](https://pandas.pydata.org/pandas-docs/stable/reference/api/pandas.DataFrame.mean.html)\n",
        "- [pandas.DataFrame.sum](https://pandas.pydata.org/docs/reference/api/pandas.DataFrame.sum.html)\n",
        "\n",
        "As you go through this task, think about the possible impact of the missing values on the ability of the data to deliver on the council's initiatives.  There is no absolute answer to \"how many missing values is too many\".  It depends on the context of what you intend to do with the data.  Try to make an interpretation based on your understanding of the requirements."
      ],
      "id": "8641574f-7ee8-4cac-98d9-4c33a54891af"
    },
    {
      "cell_type": "markdown",
      "metadata": {
        "id": "5ee7f2e0-20bf-4249-9f5d-57ab6cc0fa30"
      },
      "source": [
        "### 4.1 Missing Values for the Trees Dataset\n",
        "I've shown you how to do this for the trees dataset."
      ],
      "id": "5ee7f2e0-20bf-4249-9f5d-57ab6cc0fa30"
    },
    {
      "cell_type": "code",
      "execution_count": null,
      "metadata": {
        "id": "0bd1e712-9211-44f8-a22c-fb1df46c1961"
      },
      "outputs": [],
      "source": [
        "# Percentage of null values\n",
        "trees.isnull().mean()*100"
      ],
      "id": "0bd1e712-9211-44f8-a22c-fb1df46c1961"
    },
    {
      "cell_type": "code",
      "execution_count": null,
      "metadata": {
        "id": "afbf5093-5716-440a-8f89-eeb6a5d66662"
      },
      "outputs": [],
      "source": [
        "# Number of null values\n",
        "trees.isnull().sum()"
      ],
      "id": "afbf5093-5716-440a-8f89-eeb6a5d66662"
    },
    {
      "cell_type": "code",
      "execution_count": null,
      "metadata": {
        "id": "cde99d54-297d-41d8-954d-94ba2e08a2c5"
      },
      "outputs": [],
      "source": [
        "# Percentage of zero values\n",
        "trees.isin([0]).mean()*100"
      ],
      "id": "cde99d54-297d-41d8-954d-94ba2e08a2c5"
    },
    {
      "cell_type": "code",
      "execution_count": null,
      "metadata": {
        "id": "d0947b5d-8978-46d8-8d57-252d29c25ca8"
      },
      "outputs": [],
      "source": [
        "# Number of zero values\n",
        "trees.isin([0]).sum()"
      ],
      "id": "d0947b5d-8978-46d8-8d57-252d29c25ca8"
    },
    {
      "cell_type": "code",
      "execution_count": null,
      "metadata": {
        "id": "de03ea2b-8ea2-48ff-b620-d9fd16290c7b"
      },
      "outputs": [],
      "source": [
        "# Percentage of null and zero values\n",
        "(trees.isnull().sum() + trees.isin([0]).sum())/trees.shape[0]"
      ],
      "id": "de03ea2b-8ea2-48ff-b620-d9fd16290c7b"
    },
    {
      "cell_type": "code",
      "execution_count": null,
      "metadata": {
        "id": "f43e38e0-00c6-4ebd-9899-8f91557becb7"
      },
      "outputs": [],
      "source": [
        "# Number of null and zero values\n",
        "(trees.isnull().sum() + trees.isin([0]).sum())"
      ],
      "id": "f43e38e0-00c6-4ebd-9899-8f91557becb7"
    },
    {
      "cell_type": "markdown",
      "metadata": {
        "id": "a7416001-4d63-4bd5-9bea-2412d322ed88"
      },
      "source": [
        "### 4.2 Missing Values for the Environmental Dataset\n",
        "Now repeat the missing values check for the environmental dataset.\n",
        "\n",
        "<div style=\"background-color:lemonchiffon; border:1px solid; padding:5px; margin:5px; font-weight:bold\"><font color=\"crimson\">\n",
        "TODO: Complete the following code cells\n",
        "    </font></div>"
      ],
      "id": "a7416001-4d63-4bd5-9bea-2412d322ed88"
    },
    {
      "cell_type": "code",
      "execution_count": null,
      "metadata": {
        "id": "45971fda-0b80-4652-bc63-ed8baeaad087"
      },
      "outputs": [],
      "source": [
        "# Percentage of null values\n",
        "environmental.isnull().mean()*100"
      ],
      "id": "45971fda-0b80-4652-bc63-ed8baeaad087"
    },
    {
      "cell_type": "code",
      "execution_count": null,
      "metadata": {
        "id": "35471141-aca6-453d-afc8-babde8975f14"
      },
      "outputs": [],
      "source": [
        "# Number of null values\n",
        "environmental.isnull().sum()"
      ],
      "id": "35471141-aca6-453d-afc8-babde8975f14"
    },
    {
      "cell_type": "code",
      "execution_count": null,
      "metadata": {
        "id": "333f86d0-8443-48b5-ba17-6bb91cfd1190"
      },
      "outputs": [],
      "source": [
        "# Percentage of zero values\n",
        "environmental.isin([0]).mean()*100"
      ],
      "id": "333f86d0-8443-48b5-ba17-6bb91cfd1190"
    },
    {
      "cell_type": "code",
      "execution_count": null,
      "metadata": {
        "id": "809d3c20-113f-4665-b18d-cbdaa07b613c"
      },
      "outputs": [],
      "source": [
        "# Number of zero values\n",
        "environmental.isin([0]).sum()"
      ],
      "id": "809d3c20-113f-4665-b18d-cbdaa07b613c"
    },
    {
      "cell_type": "code",
      "execution_count": null,
      "metadata": {
        "id": "bbada47a-e7aa-43be-bfca-624feda60cb7"
      },
      "outputs": [],
      "source": [
        "# Percentage of null and zero values\n",
        "(environmental.isnull().sum() + environmental.isin([0]).sum())/environmental.shape[0]"
      ],
      "id": "bbada47a-e7aa-43be-bfca-624feda60cb7"
    },
    {
      "cell_type": "code",
      "execution_count": null,
      "metadata": {
        "id": "27dcd851-d4a3-4014-9167-9330c033738d"
      },
      "outputs": [],
      "source": [
        "# Number of null and zero values\n",
        "(environmental.isnull().sum() + environmental.isin([0]).sum())"
      ],
      "id": "27dcd851-d4a3-4014-9167-9330c033738d"
    },
    {
      "cell_type": "markdown",
      "metadata": {
        "id": "cc5e09d4-fc27-454c-8462-f918e46a241e"
      },
      "source": [
        "<hr/>"
      ],
      "id": "cc5e09d4-fc27-454c-8462-f918e46a241e"
    },
    {
      "cell_type": "markdown",
      "metadata": {
        "id": "86bc5c0f-498e-47f1-b993-5ae66b325fc1"
      },
      "source": [
        "### 4.3 Missing Values for the Common Names Dataset\n",
        "Now repeat the missing values check for the common names dataset.\n",
        "\n",
        "<div style=\"background-color:lemonchiffon; border:1px solid; padding:5px; margin:5px; font-weight:bold\"><font color=\"crimson\">\n",
        "TODO: Enter your code below.  Add as many cells as you need.\n",
        "    </font></div>"
      ],
      "id": "86bc5c0f-498e-47f1-b993-5ae66b325fc1"
    },
    {
      "cell_type": "code",
      "execution_count": null,
      "metadata": {
        "id": "84581b31-98a4-4b20-a7b3-af1685cf0131"
      },
      "outputs": [],
      "source": [
        "# Percentage of null values\n",
        "names.isnull().mean()*10"
      ],
      "id": "84581b31-98a4-4b20-a7b3-af1685cf0131"
    },
    {
      "cell_type": "code",
      "execution_count": null,
      "metadata": {
        "id": "b881b1d4-661d-46f6-943a-a5037f98facb"
      },
      "outputs": [],
      "source": [
        "# Number of null values\n",
        "names.isnull().sum()"
      ],
      "id": "b881b1d4-661d-46f6-943a-a5037f98facb"
    },
    {
      "cell_type": "code",
      "execution_count": null,
      "metadata": {
        "id": "CDnPVAJTOKQN"
      },
      "outputs": [],
      "source": [
        "# Percentage of zero values\n",
        "names.isin([0]).mean()*100"
      ],
      "id": "CDnPVAJTOKQN"
    },
    {
      "cell_type": "code",
      "execution_count": null,
      "metadata": {
        "id": "c0V4OLIPOJvV"
      },
      "outputs": [],
      "source": [
        "# Number of zero values\n",
        "names.isin([0]).sum()"
      ],
      "id": "c0V4OLIPOJvV"
    },
    {
      "cell_type": "code",
      "execution_count": null,
      "metadata": {
        "id": "02w_qDmQOJl-"
      },
      "outputs": [],
      "source": [
        "# Percentage of null and zero values\n",
        "(names.isnull().sum() + names.isin([0]).sum())/names.shape[0]"
      ],
      "id": "02w_qDmQOJl-"
    },
    {
      "cell_type": "code",
      "execution_count": null,
      "metadata": {
        "id": "KvB6RXc_OJZy"
      },
      "outputs": [],
      "source": [
        "# Number of null and zero values\n",
        "(names.isnull().sum() + names.isin([0]).sum())"
      ],
      "id": "KvB6RXc_OJZy"
    },
    {
      "cell_type": "markdown",
      "metadata": {
        "id": "fe30f689-88b0-4526-abae-1e19a320acf9"
      },
      "source": [
        "<hr/>\n",
        "\n",
        "### 4.4 Observations\n",
        "\n",
        "<div style=\"background-color:lemonchiffon; border:1px solid; padding:5px; margin:5px; font-weight:bold\"><font color=\"crimson\">\n",
        "TODO: Write down your observation about the state of missing values below and comment on the extent to which this might impact the ability to deliver on the council's initiatives.\n",
        "    </font></div>\n"
      ],
      "id": "fe30f689-88b0-4526-abae-1e19a320acf9"
    },
    {
      "cell_type": "markdown",
      "metadata": {
        "id": "ec7ce6ee-8fd6-446a-a63a-08babd1e0390"
      },
      "source": [
        "With the help of the functions we can say\n",
        "that there was some missing values in the data.\n",
        "\n",
        "**Trees dataset missing values:**\n",
        "\n",
        "*   Inspect dates and due dates (1.7% or 401 trees)\n",
        "*   Height (2.6% or 610 trees)\n",
        "*   Spread (3% or 715 trees)\n",
        "*   Diameter (3% or 712 trees)\n",
        "*   Ward information (1% or 226 trees)\n",
        "*   Longtitude/latitude/location/easting/ northing information (0.2% or 56 trees)\n",
        "*   Some trees are missing \"number of trees\" information (0.5% or 115 trees)\n",
        "\n",
        "**Environmental dataset missing values:**\n",
        "\n",
        "*   Maturity (1.7% or 409 trees)\n",
        "*   Psichological Condition (2.0% or 472 trees)\n",
        "*   Removal reason (99.6% or 23331)\n",
        "*   Capital Asset Value For Amenity Trees (3.0% or 710 trees)\n",
        "*   Carbon Storage In Kilograms (12.2% or 2860 trees)\n",
        "*   Gross Carbon Sequestration Per Year In Kilograms (12.2% or 2860 trees)\n",
        "*   Pollution Removal Per Year In grams (12.2% or 2860 trees)\n",
        "\n",
        "**Common names dataset:**\n",
        "\n",
        "*   24 common names against the scientific names are missing\n",
        "\n",
        "**Possible impact on ability to deliver on the initiatives:**\n",
        "\n",
        "\n",
        "*   The impact on the council's initiatives should be minor because the number of missing values in the trees data is small.\n",
        "*   The missing environmental data is quite large (over 12% in some cases) so it could have a large noticible impact on the ability to deliver the environmental report.\n",
        "\n",
        "\n",
        "\n",
        "\n",
        "\n",
        "\n",
        "\n",
        "\n",
        "\n",
        "\n",
        "\n",
        "\n",
        "\n",
        "\n",
        "\n"
      ],
      "id": "ec7ce6ee-8fd6-446a-a63a-08babd1e0390"
    },
    {
      "cell_type": "markdown",
      "metadata": {
        "id": "a4094437-06e3-4376-9c94-14e30a910c36"
      },
      "source": [
        "\n",
        "<hr/>"
      ],
      "id": "a4094437-06e3-4376-9c94-14e30a910c36"
    },
    {
      "cell_type": "markdown",
      "metadata": {
        "id": "33d42c68-e660-4892-b2de-0552a062c7ff"
      },
      "source": [
        "## Task 5: Identify Outliers in the Trees Dimensions\n",
        "Outliers are values that are so unusual they are possibly incorrect!  We can use a boxplot to show the spread of data and any outliers.  Read the following section if you are unfamiliar with them:\n",
        "\n",
        "- [Box plots](https://openclassrooms.com/en/courses/6037301-perform-an-initial-data-analysis/6052306-calculate-the-value-spread-in-your-data#/id/r-6133902)\n",
        "\n",
        "Any circles represent what the boxplot considers outliers, but some of these might just be correct but extreme values.  We want to only highlight really *crazy* values which are clearly incorrect.\n",
        "\n",
        "We can use this function to draw boxplots:\n",
        "\n",
        "- [pandas.DataFrame.boxplot](https://pandas.pydata.org/pandas-docs/stable/reference/api/pandas.DataFrame.plot.html)\n",
        "\n",
        "Once we have found if there are outliers, it would be nice to show the rows containing the outliers.  The technique for filtering Pandas DataFrames is described here:\n",
        "\n",
        "- [Filtering Pandas DataFrames](https://pandas.pydata.org/pandas-docs/stable/getting_started/intro_tutorials/03_subset_data.html)\n",
        "\n",
        "The filtering technique creates a mask of rows that we want to select, e.g:\n",
        "\n",
        "`mask = df['mycolumn'] > 500`\n",
        "\n",
        "and then uses the mask to select rows:\n",
        "\n",
        "`df[mask]`\n",
        "\n",
        "Note that there is no absolute definition of what \"crazy\" means here.  You will need to make some judgements based on your understanding of the world (or specifically the world of trees in Camden!)."
      ],
      "id": "33d42c68-e660-4892-b2de-0552a062c7ff"
    },
    {
      "cell_type": "markdown",
      "metadata": {
        "id": "52de8466-d0ed-4c29-af9a-bf7c79b80c09"
      },
      "source": [
        "### 5.1 Outliers for Height\n",
        "Find the outliers in the tree height column.\n",
        "<div style=\"background-color:lemonchiffon; border:1px solid; padding:5px; margin:5px; font-weight:bold\"><font color=\"crimson\">\n",
        "TODO: Complete the following code cells\n",
        "    </font></div>"
      ],
      "id": "52de8466-d0ed-4c29-af9a-bf7c79b80c09"
    },
    {
      "cell_type": "code",
      "execution_count": 79,
      "metadata": {
        "id": "ecaa87b9-9558-4fd6-8383-3a8046d26a5c",
        "colab": {
          "base_uri": "https://localhost:8080/",
          "height": 447
        },
        "outputId": "c810740f-ee59-4de7-fa0e-0f976050c369"
      },
      "outputs": [
        {
          "output_type": "execute_result",
          "data": {
            "text/plain": [
              "<Axes: >"
            ]
          },
          "metadata": {},
          "execution_count": 79
        },
        {
          "output_type": "display_data",
          "data": {
            "text/plain": [
              "<Figure size 640x480 with 1 Axes>"
            ],
            "image/png": "[encoded data removed]"
          },
          "metadata": {}
        }
      ],
      "source": [
        "# Use a boxplot to find the outliers\n",
        "trees[\"Height In Metres\"].plot(kind = \"box\")"
      ],
      "id": "ecaa87b9-9558-4fd6-8383-3a8046d26a5c"
    },
    {
      "cell_type": "code",
      "execution_count": null,
      "metadata": {
        "id": "7a614957-0a50-41f2-bebd-ca48e3660674"
      },
      "outputs": [],
      "source": [
        "# Select the crazy outlier rows\n",
        "mask = trees[\"Height In Metres\"] > 90\n",
        "trees[mask]"
      ],
      "id": "7a614957-0a50-41f2-bebd-ca48e3660674"
    },
    {
      "cell_type": "markdown",
      "metadata": {
        "id": "c3e7ff2b-b69c-4095-a20d-bd6d2df1e68a"
      },
      "source": [
        "<hr/>"
      ],
      "id": "c3e7ff2b-b69c-4095-a20d-bd6d2df1e68a"
    },
    {
      "cell_type": "markdown",
      "metadata": {
        "id": "f4d3025c-4a29-42e3-8821-8df2d8daa5e0"
      },
      "source": [
        "### 5.2 Outliers for Spread\n",
        "Now repeat the analysis for spread.\n",
        "<div style=\"background-color:lemonchiffon; border:1px solid; padding:5px; margin:5px; font-weight:bold\"><font color=\"crimson\">\n",
        "TODO: Complete the following code cells\n",
        "    </font></div>"
      ],
      "id": "f4d3025c-4a29-42e3-8821-8df2d8daa5e0"
    },
    {
      "cell_type": "code",
      "execution_count": 81,
      "metadata": {
        "id": "ce6760cf-78d0-465d-b4a3-f199596983fa",
        "colab": {
          "base_uri": "https://localhost:8080/",
          "height": 447
        },
        "outputId": "fa4d8adc-0a41-48ca-f105-1237a5bebbe7"
      },
      "outputs": [
        {
          "output_type": "execute_result",
          "data": {
            "text/plain": [
              "<Axes: >"
            ]
          },
          "metadata": {},
          "execution_count": 81
        },
        {
          "output_type": "display_data",
          "data": {
            "text/plain": [
              "<Figure size 640x480 with 1 Axes>"
            ],
            "image/png": "[encoded data removed]"
          },
          "metadata": {}
        }
      ],
      "source": [
        "# Use a boxplot to find the outliers\n",
        "trees[\"Spread In Metres\"].plot(kind = \"box\")"
      ],
      "id": "ce6760cf-78d0-465d-b4a3-f199596983fa"
    },
    {
      "cell_type": "code",
      "execution_count": null,
      "metadata": {
        "id": "6ab3697f-02f9-4e35-acd7-520ac7a1aa83"
      },
      "outputs": [],
      "source": [
        "# Select the crazy outlier rows (if any)\n",
        "mask = trees[\"Spread In Metres\"] > 80\n",
        "trees[mask]"
      ],
      "id": "6ab3697f-02f9-4e35-acd7-520ac7a1aa83"
    },
    {
      "cell_type": "markdown",
      "metadata": {
        "id": "70810045-0b5e-4dfe-bba1-fe6b0c2ea8d0"
      },
      "source": [
        "<hr/>"
      ],
      "id": "70810045-0b5e-4dfe-bba1-fe6b0c2ea8d0"
    },
    {
      "cell_type": "markdown",
      "metadata": {
        "id": "cc0982a2-f528-49ee-ae07-6d611cb4c564"
      },
      "source": [
        "### 5.3 Outliers for Diameter\n",
        "Now repeat the analysis for diameter.\n",
        "<div style=\"background-color:lemonchiffon; border:1px solid; padding:5px; margin:5px; font-weight:bold\"><font color=\"crimson\">\n",
        "TODO: Complete the following code cells\n",
        "    </font></div>"
      ],
      "id": "cc0982a2-f528-49ee-ae07-6d611cb4c564"
    },
    {
      "cell_type": "code",
      "execution_count": 102,
      "metadata": {
        "id": "f09b82f0-44c7-4b2c-b7d6-7b1059f8e424",
        "colab": {
          "base_uri": "https://localhost:8080/",
          "height": 447
        },
        "outputId": "17c16677-bbce-4c66-a0f1-a9430bf490e7"
      },
      "outputs": [
        {
          "output_type": "execute_result",
          "data": {
            "text/plain": [
              "<Axes: >"
            ]
          },
          "metadata": {},
          "execution_count": 102
        },
        {
          "output_type": "display_data",
          "data": {
            "text/plain": [
              "<Figure size 640x480 with 1 Axes>"
            ],
            "image/png": "[encoded data removed]"
          },
          "metadata": {}
        }
      ],
      "source": [
        "# Use a boxplot to find the outliers\n",
        "trees[\"Diameter In Centimetres At Breast Height\"].plot(kind = \"box\")"
      ],
      "id": "f09b82f0-44c7-4b2c-b7d6-7b1059f8e424"
    },
    {
      "cell_type": "code",
      "execution_count": 84,
      "metadata": {
        "id": "6299642f-bf98-43da-a7bc-2880c88c002e"
      },
      "outputs": [],
      "source": [
        "# Select the outlier rows (if any)\n",
        "# mask = trees['Diameter In Centimetres At Breast Height'] > 175\n",
        "# trees[mask]"
      ],
      "id": "6299642f-bf98-43da-a7bc-2880c88c002e"
    },
    {
      "cell_type": "markdown",
      "metadata": {
        "id": "19fb2357-f25f-4840-b4a7-5a016256ff28"
      },
      "source": [
        "<hr/>\n",
        "\n",
        "### 5.4 Observations\n",
        "\n",
        "<div style=\"background-color:lemonchiffon; border:1px solid; padding:5px; margin:5px; font-weight:bold\"><font color=\"crimson\">\n",
        "TODO: Write down your observation about outliers in the data.  What assumptions did you make?  Were you comfortable making these assumptions?\n",
        "    </font></div>\n"
      ],
      "id": "19fb2357-f25f-4840-b4a7-5a016256ff28"
    },
    {
      "cell_type": "markdown",
      "metadata": {
        "id": "12f67262-3fe4-4238-8e6f-e04382b8594d"
      },
      "source": [
        "3 outliers in total:\n",
        "\n",
        "*   Height In Metres - 2 outliers\n",
        "*   Spread In Metres - 1 outlier\n",
        "\n",
        "It is comfortbale to say that we have 3 outliers because values are to big and off the chart."
      ],
      "id": "12f67262-3fe4-4238-8e6f-e04382b8594d"
    },
    {
      "cell_type": "markdown",
      "metadata": {
        "id": "bd36393a-8904-4be8-affe-1a99e5d4e69f"
      },
      "source": [
        "<hr/>"
      ],
      "id": "bd36393a-8904-4be8-affe-1a99e5d4e69f"
    },
    {
      "cell_type": "markdown",
      "metadata": {
        "id": "a433b035-abc4-4ce2-b86e-484e698bd941"
      },
      "source": [
        "## Task 6: Identify Duplicates in the Trees Dataset\n",
        "Sometimes data has duplicate entries.  This is another sign of data quality issues!\n",
        "\n",
        "### 6.1 Find Duplicate Rows\n",
        "\n",
        "In our dataset the `Identifier` column should be unique.  Find out if it is!  We've already used a function that can count how many times each value in a column exists.  Use is to see if we have duplicates in the trees Dataframe.\n",
        "\n",
        "<div style=\"background-color:lemonchiffon; border:1px solid; padding:5px; margin:5px; font-weight:bold\"><font color=\"crimson\">\n",
        "TODO: Complete the following code cells\n",
        "    </font></div>"
      ],
      "id": "a433b035-abc4-4ce2-b86e-484e698bd941"
    },
    {
      "cell_type": "code",
      "execution_count": null,
      "metadata": {
        "id": "a40454f4-03e9-43b3-a0d8-6fcb756ba90b"
      },
      "outputs": [],
      "source": [
        "# Find out if we have any duplicates\n",
        "id = trees[\"Identifier\"].value_counts()\n",
        "id[id>1]"
      ],
      "id": "a40454f4-03e9-43b3-a0d8-6fcb756ba90b"
    },
    {
      "cell_type": "markdown",
      "metadata": {
        "id": "787be537-4f13-466e-9a65-108d93563fc8"
      },
      "source": [
        "Now see if you can select the rows from trees DataFrame that are duplicates.  You will need to use the output from the cell above and use it to filter the trees dataframe."
      ],
      "id": "787be537-4f13-466e-9a65-108d93563fc8"
    },
    {
      "cell_type": "code",
      "execution_count": 86,
      "metadata": {
        "id": "3d2fbdbf-c839-4e84-ad7c-add0f4fa31ef",
        "colab": {
          "base_uri": "https://localhost:8080/"
        },
        "outputId": "a1649b0a-9bc1-4b5c-d676-56da2b9f44be"
      },
      "outputs": [
        {
          "output_type": "execute_result",
          "data": {
            "text/plain": [
              "(12, 17)"
            ]
          },
          "metadata": {},
          "execution_count": 86
        }
      ],
      "source": [
        "# Select the rows that are duplicated\n",
        "mask = trees[\"Identifier\"].isin(id[id>1].index)\n",
        "trees[mask].shape"
      ],
      "id": "3d2fbdbf-c839-4e84-ad7c-add0f4fa31ef"
    },
    {
      "cell_type": "markdown",
      "metadata": {
        "id": "a74e447b-7ae5-43f3-a189-94c066fe6fc0"
      },
      "source": [
        "<hr/>\n",
        "\n",
        "### 6.2 Observations\n",
        "\n",
        "<div style=\"background-color:lemonchiffon; border:1px solid; padding:5px; margin:5px; font-weight:bold\"><font color=\"crimson\">\n",
        "TODO: Write down your observations about duplicates in trees.\n",
        "    </font></div>\n"
      ],
      "id": "a74e447b-7ae5-43f3-a189-94c066fe6fc0"
    },
    {
      "cell_type": "markdown",
      "metadata": {
        "id": "7aaa910b-ccc4-4f78-80cd-467b683fe2e1"
      },
      "source": [
        "There are few duplicates in trees. In total we have 12 duplicate rows."
      ],
      "id": "7aaa910b-ccc4-4f78-80cd-467b683fe2e1"
    },
    {
      "cell_type": "markdown",
      "metadata": {
        "id": "d0f41ea4-112c-4ea9-96a5-ca76e4b972b3"
      },
      "source": [
        "<hr/>"
      ],
      "id": "d0f41ea4-112c-4ea9-96a5-ca76e4b972b3"
    },
    {
      "cell_type": "markdown",
      "metadata": {
        "id": "59990f3e-6f73-46ee-8644-2dc503baa93a"
      },
      "source": [
        "## Task 7: Identify Geolocation Issues\n",
        "The geographic coordinates (Easting and Northing) can be used to plot the trees on a map.  We can use this approach to see if there are any unusual tree locations!\n",
        "\n",
        "We will make a copy of the original trees dataset and remove any rows that have a missing easting or northing as these can't be plotted on the map.\n",
        "\n",
        "We can copy the DataFrame using:\n",
        "\n",
        "- [pandas.DataFrame.copy](https://pandas.pydata.org/pandas-docs/stable/reference/api/pandas.DataFrame.copy.html)\n",
        "\n",
        "We can use the DataFrame filtering technique we saw before to remove the missing values.  E.g. the following code filters out rows where the value for 'mycolumn' is 100:\n",
        "\n",
        "    mask = df['mycolumn'] != 100\n",
        "    df = df[mask]\n",
        "\n",
        "You can also create masks using a function, e.g. this creates a mask which excludes nulls:\n",
        "\n",
        "    mask = df['mycolumn'].isnull()\n",
        "\n",
        "We can use this function to plot the trees on a map. Set x to \"Easting\" and y to \"Northing\" and set a figsize parameter to (6, 6) to get a square aspect ratio:\n",
        "\n",
        "- [pandas.DataFrame.plot.scatter](https://pandas.pydata.org/pandas-docs/version/0.25.0/reference/api/pandas.DataFrame.plot.scatter.html)\n",
        "\n",
        "\n"
      ],
      "id": "59990f3e-6f73-46ee-8644-2dc503baa93a"
    },
    {
      "cell_type": "markdown",
      "metadata": {
        "id": "0bdaf281-68a3-43d4-abb6-f3c42a088f7f"
      },
      "source": [
        "### 7.1 Remove Trees with Missing Geo-coordinates\n",
        "Check if there are any rows with null or 0 geo-coordinates.  If there are, remove them as we can't plot these.\n",
        "\n",
        "<div style=\"background-color:lemonchiffon; border:1px solid; padding:5px; margin:5px; font-weight:bold\"><font color=\"crimson\">\n",
        "TODO: Complete the following code cells\n",
        "    </font></div>"
      ],
      "id": "0bdaf281-68a3-43d4-abb6-f3c42a088f7f"
    },
    {
      "cell_type": "markdown",
      "metadata": {
        "id": "gptGMT0nkYA9"
      },
      "source": [],
      "id": "gptGMT0nkYA9"
    },
    {
      "cell_type": "code",
      "execution_count": 87,
      "metadata": {
        "id": "913c1d69-b105-44aa-be2f-73b537313c6e"
      },
      "outputs": [],
      "source": [
        "# Make a copy of the trees\n",
        "geotrees = trees.copy()"
      ],
      "id": "913c1d69-b105-44aa-be2f-73b537313c6e"
    },
    {
      "cell_type": "code",
      "execution_count": 88,
      "metadata": {
        "id": "3a9b5bf6-bda3-472f-9796-060023cff4e8"
      },
      "outputs": [],
      "source": [
        "# Remove null Eastings\n",
        "mask = geotrees[\"Easting\"].notnull()\n",
        "treesgeo = geotrees[mask]\n"
      ],
      "id": "3a9b5bf6-bda3-472f-9796-060023cff4e8"
    },
    {
      "cell_type": "code",
      "execution_count": 89,
      "metadata": {
        "id": "7f77324a-f2e4-4d69-a0fe-1d71757c6f6e"
      },
      "outputs": [],
      "source": [
        "# Remove 0 Eastings.\n",
        "mask = treesgeo[\"Easting\"] != 0\n",
        "treesgeo = treesgeo[mask]"
      ],
      "id": "7f77324a-f2e4-4d69-a0fe-1d71757c6f6e"
    },
    {
      "cell_type": "code",
      "execution_count": 90,
      "metadata": {
        "id": "40ccb789-0cab-4218-9caa-e7e08b2b71ae"
      },
      "outputs": [],
      "source": [
        "# Remove null Northings\n",
        "mask = treesgeo[\"Northing\"].notnull()\n",
        "treesgeo = treesgeo[mask]"
      ],
      "id": "40ccb789-0cab-4218-9caa-e7e08b2b71ae"
    },
    {
      "cell_type": "code",
      "execution_count": 91,
      "metadata": {
        "id": "c77858c5-99e7-4f1f-affa-bd2370b9aed8"
      },
      "outputs": [],
      "source": [
        "# Remove 0 Northings.\n",
        "mask = treesgeo[\"Northing\"] != 0\n",
        "treesgeo = treesgeo[mask]"
      ],
      "id": "c77858c5-99e7-4f1f-affa-bd2370b9aed8"
    },
    {
      "cell_type": "code",
      "execution_count": 92,
      "metadata": {
        "colab": {
          "base_uri": "https://localhost:8080/"
        },
        "id": "616a5473-5d71-486a-9ea0-c401fc7f4428",
        "outputId": "088fdaf6-b2d6-45a8-c0b3-1614ccea2e30"
      },
      "outputs": [
        {
          "output_type": "execute_result",
          "data": {
            "text/plain": [
              "(23388, 17)"
            ]
          },
          "metadata": {},
          "execution_count": 92
        }
      ],
      "source": [
        "# Confirm how many rows we have\n",
        "treesgeo.shape"
      ],
      "id": "616a5473-5d71-486a-9ea0-c401fc7f4428"
    },
    {
      "cell_type": "markdown",
      "metadata": {
        "id": "a63dbcfc-e781-4812-9a10-1cf5be028dae"
      },
      "source": [
        "<hr/>"
      ],
      "id": "a63dbcfc-e781-4812-9a10-1cf5be028dae"
    },
    {
      "cell_type": "markdown",
      "metadata": {
        "id": "d1e84a3c-7eed-408a-a724-3944d89e0755"
      },
      "source": [
        "### 7.2 Plot Map of Trees\n",
        "Now make the plot.  Do a scatter plot of Northing vs Easting. You should obtain an outline of the map of Camden. Compare that outline with a real map of Camden (use good old google maps!). You’ll be able to spot the trees that should not be in that dataset from there!\n",
        "\n",
        "<div style=\"background-color:lemonchiffon; border:1px solid; padding:5px; margin:5px; font-weight:bold\"><font color=\"crimson\">\n",
        "TODO: Complete the following code cell\n",
        "    </font></div>"
      ],
      "id": "d1e84a3c-7eed-408a-a724-3944d89e0755"
    },
    {
      "cell_type": "code",
      "execution_count": 93,
      "metadata": {
        "colab": {
          "base_uri": "https://localhost:8080/",
          "height": 559
        },
        "id": "b51e227f-bd09-4064-9f60-be766962646d",
        "outputId": "b0d01591-371a-4681-d3f7-f32c23a54946"
      },
      "outputs": [
        {
          "output_type": "execute_result",
          "data": {
            "text/plain": [
              "<Axes: xlabel='Easting', ylabel='Northing'>"
            ]
          },
          "metadata": {},
          "execution_count": 93
        },
        {
          "output_type": "display_data",
          "data": {
            "text/plain": [
              "<Figure size 600x600 with 1 Axes>"
            ],
            "image/png": "[encoded data removed]"
          },
          "metadata": {}
        }
      ],
      "source": [
        "# Plot the trees on a map\n",
        "treesgeo.plot.scatter(x = \"Easting\", y = \"Northing\", figsize=(6,6))"
      ],
      "id": "b51e227f-bd09-4064-9f60-be766962646d"
    },
    {
      "cell_type": "markdown",
      "metadata": {
        "id": "6914e59e-aaeb-4b9b-8a84-b4007e2ad747"
      },
      "source": [
        "### 7.3 Find Trees Outside Camden\n",
        "From the scatter plot, you should be able to determine how to select the rows from the trees data set containing the offending trees (using the Easting and Northing values)\n",
        "\n",
        "Select the rows containing trees outside of Camden.  Use the filter technique again.\n",
        "\n",
        "<div style=\"background-color:lemonchiffon; border:1px solid; padding:5px; margin:5px; font-weight:bold\"><font color=\"crimson\">\n",
        "TODO: Complete the following code cells\n",
        "    </font></div>"
      ],
      "id": "6914e59e-aaeb-4b9b-8a84-b4007e2ad747"
    },
    {
      "cell_type": "code",
      "execution_count": 94,
      "metadata": {
        "id": "4b992a8f-d5be-4adb-a383-4f8e5505b2ed"
      },
      "outputs": [],
      "source": [
        "# Select the outlier rows\n",
        "cc = treesgeo\n",
        "mask = cc[\"Northing\"] > 194000"
      ],
      "id": "4b992a8f-d5be-4adb-a383-4f8e5505b2ed"
    },
    {
      "cell_type": "code",
      "execution_count": 95,
      "metadata": {
        "colab": {
          "base_uri": "https://localhost:8080/"
        },
        "id": "0270dae9-9bcf-4b63-95cf-13b7c5184424",
        "outputId": "2a97c67c-d3bb-4fd5-933d-a57cd4b691fe"
      },
      "outputs": [
        {
          "output_type": "execute_result",
          "data": {
            "text/plain": [
              "(8, 17)"
            ]
          },
          "metadata": {},
          "execution_count": 95
        }
      ],
      "source": [
        "# Confirm how many rows we have\n",
        "cc[mask].shape"
      ],
      "id": "0270dae9-9bcf-4b63-95cf-13b7c5184424"
    },
    {
      "cell_type": "markdown",
      "metadata": {
        "id": "ee3f0cff-17bb-4f75-a92c-876c56e230c5"
      },
      "source": [
        "<hr/>\n",
        "\n",
        "### 7.4 Observations\n",
        "\n",
        "\n",
        "<div style=\"background-color:lemonchiffon; border:1px solid; padding:5px; margin:5px; font-weight:bold\"><font color=\"crimson\">\n",
        "TODO: Write down your observation about geolocation issues.\n",
        "    </font></div>\n"
      ],
      "id": "ee3f0cff-17bb-4f75-a92c-876c56e230c5"
    },
    {
      "cell_type": "markdown",
      "metadata": {
        "id": "3f5a1605-de7e-4cb7-8190-c643122c104e"
      },
      "source": [
        "After removing missing geo-coordinates and ploting a map we can see some rows containing trees outside of Camden. There are 8 outlier rows."
      ],
      "id": "3f5a1605-de7e-4cb7-8190-c643122c104e"
    },
    {
      "cell_type": "markdown",
      "metadata": {
        "id": "0680cf79-2a3a-4e9c-8332-609680b69040"
      },
      "source": [
        "<hr/>"
      ],
      "id": "0680cf79-2a3a-4e9c-8332-609680b69040"
    },
    {
      "cell_type": "markdown",
      "metadata": {
        "id": "2c6f941f-e14a-4a51-aa29-66010910009a"
      },
      "source": [
        "## Task 8: Identify Unmatched Data\n",
        "We have multiple datasets that will need to be joined together to produce the analyses required by the Camden Parks and Open Spaces team.  The data will need to be joined in the following way:\n",
        "\n",
        "- Use the `Identifier` column in the trees dataset to match to the `Identifier` column in the environmental data set (so we can bring in the environmental data for each tree)\n",
        "- Use the `Scientific Name` column in the trees dataset to match to the `Scientific Name` column in the common names data set (so we can look up the `Common Name`)\n",
        "\n",
        "There may be mismatches in the data.  Of particular concern we want to check\n",
        "\n",
        "- That every tree in the trees dataset has matching environmental data in the environmental data set\n",
        "- That every environmental row in the environmental dataset has matching tree data in the tree data set\n",
        "- That every scientific name in the trees dataset has a matching common name in the common names data set\n",
        "\n",
        "We aren't too concerned about the reverse of the last scenario (if we have extra names in the common names dataset that aren't in the trees data set).  We don't expect Camden to have a specimen of every tree that exists!\n",
        "\n",
        "There are a few ways this can be done, but one technique is to use the `isin` function to check if some column in one dataframe contains values that are in another column in another dataframe.  This creates a mask containing rows that match between the two dataframes:\n",
        "\n",
        "    mask = df1['column_name1'].isin(df2['column_name2'])\n",
        "\n",
        "To select the non-matching rows, we can use Python's bitwise not operator ~:\n",
        "\n",
        "    mask = ~df1['column_name1'].isin(df2['column_name2'])\n",
        "\n",
        "As we have seen before, the mask can be used to select that subset of rows back from the original dataframe."
      ],
      "id": "2c6f941f-e14a-4a51-aa29-66010910009a"
    },
    {
      "cell_type": "markdown",
      "metadata": {
        "id": "1f5064f7-e956-4420-b80c-f14c2d2d3427"
      },
      "source": [
        "### 8.1 Find Trees that Don't have Matching Environmental Data\n",
        "<div style=\"background-color:lemonchiffon; border:1px solid; padding:5px; margin:5px; font-weight:bold\"><font color=\"crimson\">\n",
        "TODO: Complete the following code cells\n",
        "    </font></div>"
      ],
      "id": "1f5064f7-e956-4420-b80c-f14c2d2d3427"
    },
    {
      "cell_type": "code",
      "execution_count": 96,
      "metadata": {
        "id": "ec5e5506-1c6f-4f33-92d1-420ea57b6da5"
      },
      "outputs": [],
      "source": [
        "# Find trees that don't have matching environmental data\n",
        "kk = ~treesgeo[\"Identifier\"].isin(environmental[\"Identifier\"])"
      ],
      "id": "ec5e5506-1c6f-4f33-92d1-420ea57b6da5"
    },
    {
      "cell_type": "code",
      "execution_count": 97,
      "metadata": {
        "colab": {
          "base_uri": "https://localhost:8080/"
        },
        "id": "36cabc0b-2d67-4a8d-8d85-6d3d3b40acfb",
        "outputId": "b3d28be6-a9f1-4f76-dccb-10ebad552156"
      },
      "outputs": [
        {
          "output_type": "execute_result",
          "data": {
            "text/plain": [
              "(23, 17)"
            ]
          },
          "metadata": {},
          "execution_count": 97
        }
      ],
      "source": [
        "# Confirm how many rows we have\n",
        "treesgeo[kk].shape"
      ],
      "id": "36cabc0b-2d67-4a8d-8d85-6d3d3b40acfb"
    },
    {
      "cell_type": "markdown",
      "metadata": {
        "id": "163e0301-fae2-41cc-a7a7-11a31b9e0499"
      },
      "source": [
        "### 8.2 Find Environmental Data that Doesn't have Matching Tree Data\n",
        "<div style=\"background-color:lemonchiffon; border:1px solid; padding:5px; margin:5px; font-weight:bold\"><font color=\"crimson\">\n",
        "TODO: Complete the following code cells\n",
        "    </font></div>"
      ],
      "id": "163e0301-fae2-41cc-a7a7-11a31b9e0499"
    },
    {
      "cell_type": "code",
      "execution_count": 98,
      "metadata": {
        "id": "17727576-c7c3-487a-87d1-d27d326f661c"
      },
      "outputs": [],
      "source": [
        "# Find environmental data that doesn't have matching tree data\n",
        "pp = ~environmental[\"Identifier\"].isin(trees[\"Identifier\"])"
      ],
      "id": "17727576-c7c3-487a-87d1-d27d326f661c"
    },
    {
      "cell_type": "code",
      "execution_count": 99,
      "metadata": {
        "id": "7c562a4f-6a70-4e53-8dc5-c2ebd3a1417f",
        "colab": {
          "base_uri": "https://localhost:8080/"
        },
        "outputId": "86c3160d-f600-4690-e097-bad73d75f918"
      },
      "outputs": [
        {
          "output_type": "execute_result",
          "data": {
            "text/plain": [
              "(0, 9)"
            ]
          },
          "metadata": {},
          "execution_count": 99
        }
      ],
      "source": [
        "# Confirm how many rows we have\n",
        "environmental[pp].shape"
      ],
      "id": "7c562a4f-6a70-4e53-8dc5-c2ebd3a1417f"
    },
    {
      "cell_type": "markdown",
      "metadata": {
        "id": "ce4445b4-53db-4d95-82b6-4af1088046bf"
      },
      "source": [
        "### 8.3 Find Trees that Don't have Matching Common Names Data\n",
        "<div style=\"background-color:lemonchiffon; border:1px solid; padding:5px; margin:5px; font-weight:bold\"><font color=\"crimson\">\n",
        "TODO: Complete the following code cells\n",
        "    </font></div>"
      ],
      "id": "ce4445b4-53db-4d95-82b6-4af1088046bf"
    },
    {
      "cell_type": "code",
      "execution_count": 100,
      "metadata": {
        "id": "f66f9bfd-6bfc-4faf-946e-d5d8f6cbb4b6"
      },
      "outputs": [],
      "source": [
        "# Find trees with scientific names that don't have matching common names data\n",
        "mm = ~trees[\"Scientific Name\"].isin(names[\"Scientific Name\"])"
      ],
      "id": "f66f9bfd-6bfc-4faf-946e-d5d8f6cbb4b6"
    },
    {
      "cell_type": "code",
      "execution_count": 101,
      "metadata": {
        "id": "183f5951-2c4e-486a-beb9-68abc8be8674",
        "colab": {
          "base_uri": "https://localhost:8080/"
        },
        "outputId": "72a3071a-a57c-431a-f1b1-e28240e56303"
      },
      "outputs": [
        {
          "output_type": "execute_result",
          "data": {
            "text/plain": [
              "(76, 17)"
            ]
          },
          "metadata": {},
          "execution_count": 101
        }
      ],
      "source": [
        "# Confirm how many rows we have\n",
        "trees[mm].shape"
      ],
      "id": "183f5951-2c4e-486a-beb9-68abc8be8674"
    },
    {
      "cell_type": "markdown",
      "metadata": {
        "id": "28a9ce1a-e0d6-42b2-b83a-bfb1c1a21f75"
      },
      "source": [
        "<hr/>\n",
        "\n",
        "### 8.4 Observations\n",
        "\n",
        "<div style=\"background-color:lemonchiffon; border:1px solid; padding:5px; margin:5px; font-weight:bold\"><font color=\"crimson\">\n",
        "TODO: Write down your observation about unmatched data issues.\n",
        "    </font></div>\n"
      ],
      "id": "28a9ce1a-e0d6-42b2-b83a-bfb1c1a21f75"
    },
    {
      "cell_type": "markdown",
      "metadata": {
        "id": "80b550e2-3d7e-44af-990a-cc59b070c269"
      },
      "source": [
        "Observation:\n",
        "\n",
        "*   23 rows with *Trees that Don't have Matching Environmental Data*\n",
        "*   0 rows of *Environmental Data that Doesn't have Matching Tree Data*\n",
        "*   76 rows of *Trees that Don't have Matching Common Names Data*\n"
      ],
      "id": "80b550e2-3d7e-44af-990a-cc59b070c269"
    },
    {
      "cell_type": "markdown",
      "metadata": {
        "id": "663f0130-1aee-4590-b6d3-ddc531035415"
      },
      "source": [
        "<hr/>"
      ],
      "id": "663f0130-1aee-4590-b6d3-ddc531035415"
    },
    {
      "cell_type": "markdown",
      "metadata": {
        "id": "ecb4c78f-147a-4cb7-b646-1de2d365c5e5"
      },
      "source": [
        "# END OF NOTEBOOK"
      ],
      "id": "ecb4c78f-147a-4cb7-b646-1de2d365c5e5"
    },
    {
      "cell_type": "code",
      "execution_count": null,
      "metadata": {
        "id": "23027640-3750-4ea5-9057-e81626698bdb"
      },
      "outputs": [],
      "source": [],
      "id": "23027640-3750-4ea5-9057-e81626698bdb"
    }
  ],
  "metadata": {
    "colab": {
      "provenance": []
    },
    "kernelspec": {
      "display_name": "Python 3 (ipykernel)",
      "language": "python",
      "name": "python3"
    },
    "language_info": {
      "codemirror_mode": {
        "name": "ipython",
        "version": 3
      },
      "file_extension": ".py",
      "mimetype": "text/x-python",
      "name": "python",
      "nbconvert_exporter": "python",
      "pygments_lexer": "ipython3",
      "version": "3.9.7"
    }
  },
  "nbformat": 4,
  "nbformat_minor": 5
}